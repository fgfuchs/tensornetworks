{
 "cells": [
  {
   "cell_type": "code",
   "execution_count": 1,
   "id": "6bfb0c4c-c202-4373-986e-2c4c554e3dc1",
   "metadata": {},
   "outputs": [],
   "source": [
    "import numpy as np"
   ]
  },
  {
   "cell_type": "markdown",
   "id": "0f7c367d-5e73-4a42-9a8e-0ae1ca4e96d1",
   "metadata": {},
   "source": [
    "### 1. Define states one and zero"
   ]
  },
  {
   "cell_type": "code",
   "execution_count": 2,
   "id": "da6e799e-919b-425a-ac5e-c9a537039238",
   "metadata": {},
   "outputs": [],
   "source": [
    "zero=np.array([1,0])\n",
    "one=np.array([0,1])"
   ]
  },
  {
   "cell_type": "markdown",
   "id": "621fc544-22e2-4b75-a70e-fd9ace20bc75",
   "metadata": {},
   "source": [
    "### 2. Define Hadamard gate as $2\\times 2$ tensor"
   ]
  },
  {
   "cell_type": "code",
   "execution_count": 3,
   "id": "4d532355-f899-478e-9660-688f7ad10dba",
   "metadata": {},
   "outputs": [
    {
     "name": "stdout",
     "output_type": "stream",
     "text": [
      "[[ 0.70710678  0.70710678]\n",
      " [ 0.70710678 -0.70710678]]\n"
     ]
    }
   ],
   "source": [
    "H=1/np.sqrt(2)*np.array(([1,1], [1,-1])).reshape(2,2)\n",
    "print(H)\n",
    "# np.einsum('i,ij->j', zero, H), np.einsum('i,ij->j', one, H)"
   ]
  },
  {
   "cell_type": "markdown",
   "id": "54fdec7c-b391-4503-8de5-aecfdfbc84c9",
   "metadata": {},
   "source": [
    "### 3. Define CX gate as $2\\times2\\times2\\times2$ tensor"
   ]
  },
  {
   "cell_type": "code",
   "execution_count": 4,
   "id": "5a7fc732-eb28-4d39-a5dd-36f18b3236da",
   "metadata": {},
   "outputs": [
    {
     "name": "stdout",
     "output_type": "stream",
     "text": [
      "[[[[1 0]\n",
      "   [0 0]]\n",
      "\n",
      "  [[0 1]\n",
      "   [0 0]]]\n",
      "\n",
      "\n",
      " [[[0 0]\n",
      "   [0 1]]\n",
      "\n",
      "  [[0 0]\n",
      "   [1 0]]]]\n"
     ]
    }
   ],
   "source": [
    "CX=np.array(([1,0,0,0], [0,1,0,0], [0,0,0,1], [0,0,1,0])).reshape(2,2,2,2)\n",
    "print(CX)\n",
    "# zoCX=np.einsum('j,jkl->kl', one, np.einsum('i,ijkl->jkl', zero, CX))\n",
    "# ooCX=np.einsum('j,jkl->kl', one, np.einsum('i,ijkl->jkl', one, CX))\n",
    "# np.einsum('l,l->', one, np.einsum('k,kl->l', zero, zoCX)), \\\n",
    "# np.einsum('l,l->', zero, np.einsum('k,kl->l', one, ooCX)), "
   ]
  },
  {
   "cell_type": "markdown",
   "id": "e061fc09-e11c-421b-a309-8be7ac648404",
   "metadata": {},
   "source": [
    "### 4. Lets apply H to $| 0 \\rangle$"
   ]
  },
  {
   "cell_type": "code",
   "execution_count": 5,
   "id": "624595af-515d-467d-8856-4f1ee7040b70",
   "metadata": {},
   "outputs": [
    {
     "data": {
      "text/plain": [
       "array([0.70710678, 0.70710678])"
      ]
     },
     "execution_count": 5,
     "metadata": {},
     "output_type": "execute_result"
    }
   ],
   "source": [
    "h=np.einsum('i,ij->j', zero, H)\n",
    "h"
   ]
  },
  {
   "cell_type": "markdown",
   "id": "22d8de81-21d7-4c01-898d-fb9f27559352",
   "metadata": {},
   "source": [
    "### 5. Next apply CX gate to $|+\\rangle |0\\rangle$"
   ]
  },
  {
   "cell_type": "code",
   "execution_count": 6,
   "id": "116444a9-9289-49ce-b6bd-459700d1c444",
   "metadata": {},
   "outputs": [
    {
     "name": "stdout",
     "output_type": "stream",
     "text": [
      "[[0.70710678 0.        ]\n",
      " [0.         0.70710678]]\n"
     ]
    }
   ],
   "source": [
    "L1=np.einsum('j,jkl->kl', zero, np.einsum('i,ijkl->jkl', h, CX))\n",
    "print(L1)"
   ]
  },
  {
   "cell_type": "markdown",
   "id": "c2d75066-83ef-4685-b1ce-d7da6dbe0295",
   "metadata": {},
   "source": [
    "### 6. Apply SVD to L1, which is trivial"
   ]
  },
  {
   "cell_type": "code",
   "execution_count": 7,
   "id": "38065d4d-166b-41b5-a77f-eb1ade511e37",
   "metadata": {},
   "outputs": [
    {
     "data": {
      "text/plain": [
       "(array([[1., 0.],\n",
       "        [0., 1.]]),\n",
       " array([0.70710678, 0.70710678]),\n",
       " array([[1., 0.],\n",
       "        [0., 1.]]))"
      ]
     },
     "execution_count": 7,
     "metadata": {},
     "output_type": "execute_result"
    }
   ],
   "source": [
    "U, S, Vh = np.linalg.svd(L1, full_matrices=True)\n",
    "\n",
    "U, S, Vh"
   ]
  },
  {
   "cell_type": "markdown",
   "id": "7880762c-a17a-4a4c-ad4e-fef6b184837e",
   "metadata": {},
   "source": [
    "### 7. Apply CX to $(V_h, |0\\rangle)$"
   ]
  },
  {
   "cell_type": "code",
   "execution_count": 8,
   "id": "cd431c47-8e4d-482b-a8c3-1317090b5537",
   "metadata": {},
   "outputs": [
    {
     "data": {
      "text/plain": [
       "array([[[0., 1.],\n",
       "        [0., 0.]],\n",
       "\n",
       "       [[0., 0.],\n",
       "        [1., 0.]]])"
      ]
     },
     "execution_count": 8,
     "metadata": {},
     "output_type": "execute_result"
    }
   ],
   "source": [
    "L2=np.einsum('k,iklm->ilm', one, np.einsum('ij,jklm->iklm', Vh, CX))\n",
    "L2"
   ]
  },
  {
   "cell_type": "markdown",
   "id": "b2e3ffe8-8f7e-434f-aaf4-60eed3ac8055",
   "metadata": {},
   "source": [
    "### 8. Apply SVD to L2, reshape first"
   ]
  },
  {
   "cell_type": "code",
   "execution_count": 9,
   "id": "75ccdd23-dd76-47b3-8691-31f919f53224",
   "metadata": {},
   "outputs": [
    {
     "data": {
      "text/plain": [
       "(array([[[ 0., -1.],\n",
       "         [ 0.,  0.]],\n",
       " \n",
       "        [[ 0.,  0.],\n",
       "         [-1.,  0.]]]),\n",
       " array([1., 1.]),\n",
       " array([[-1., -0.],\n",
       "        [-0., -1.]]))"
      ]
     },
     "execution_count": 9,
     "metadata": {},
     "output_type": "execute_result"
    }
   ],
   "source": [
    "L2=L2.reshape(4,2)\n",
    "U, S, Vh = np.linalg.svd(L2, full_matrices=False)\n",
    "U.reshape(2,2,2),S,Vh"
   ]
  }
 ],
 "metadata": {
  "kernelspec": {
   "display_name": "Python 3 (ipykernel)",
   "language": "python",
   "name": "python3"
  },
  "language_info": {
   "codemirror_mode": {
    "name": "ipython",
    "version": 3
   },
   "file_extension": ".py",
   "mimetype": "text/x-python",
   "name": "python",
   "nbconvert_exporter": "python",
   "pygments_lexer": "ipython3",
   "version": "3.11.8"
  }
 },
 "nbformat": 4,
 "nbformat_minor": 5
}
